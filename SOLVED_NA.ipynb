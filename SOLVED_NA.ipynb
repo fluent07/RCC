{
 "cells": [
  {
   "cell_type": "code",
   "execution_count": 1,
   "metadata": {},
   "outputs": [],
   "source": [
    "import sympy as sp\n",
    "import numpy as np\n",
    "x = sp.symbols('x')"
   ]
  },
  {
   "cell_type": "code",
   "execution_count": 2,
   "metadata": {},
   "outputs": [
    {
     "data": {
      "text/plain": [
       "628.3185307179587"
      ]
     },
     "execution_count": 2,
     "metadata": {},
     "output_type": "execute_result"
    }
   ],
   "source": [
    "As = 2 * np.pi/4 * 20**2\n",
    "As"
   ]
  },
  {
   "cell_type": "code",
   "execution_count": 3,
   "metadata": {},
   "outputs": [],
   "source": [
    "def area(d):\n",
    "    return((sp.pi/4)*d**2)"
   ]
  },
  {
   "cell_type": "code",
   "execution_count": 4,
   "metadata": {},
   "outputs": [
    {
     "name": "stdout",
     "output_type": "stream",
     "text": [
      "1256.63706143592 307.876080051800\n"
     ]
    }
   ],
   "source": [
    "b = 300\n",
    "h = 450\n",
    "c = 40\n",
    "d = h - c\n",
    "Asc = 2*area(14).evalf()\n",
    "As = 4*area(20).evalf()\n",
    "n = 15\n",
    "print(As,Asc)"
   ]
  },
  {
   "cell_type": "code",
   "execution_count": 5,
   "metadata": {},
   "outputs": [
    {
     "data": {
      "text/latex": [
       "$\\displaystyle 241.614185547915$"
      ],
      "text/plain": [
       "241.614185547915"
      ]
     },
     "execution_count": 5,
     "metadata": {},
     "output_type": "execute_result"
    }
   ],
   "source": [
    "NA_eq = sp.Eq(\n",
    " ((b*x**2)/2)+(n*Asc*(x-c))-((b*(h-x)**2)/2)-(n*As*(d-x)), 0\n",
    ")\n",
    "NA = sp.solve(NA_eq, x)\n",
    "x_ucr = NA[0]\n",
    "x_ucr.evalf()"
   ]
  },
  {
   "cell_type": "markdown",
   "metadata": {},
   "source": [
    "JidI = \n",
    "  I for the portion of concrete above neutral axis + I for transformed compression reinforcement + I for the portion of concrete below the neutral axis + I for the transformed tensile reinforcement"
   ]
  },
  {
   "cell_type": "code",
   "execution_count": 6,
   "metadata": {},
   "outputs": [
    {
     "data": {
      "text/latex": [
       "$\\displaystyle 3037564911.52695$"
      ],
      "text/plain": [
       "3037564911.52695"
      ]
     },
     "execution_count": 6,
     "metadata": {},
     "output_type": "execute_result"
    }
   ],
   "source": [
    "JidI =  (b/3)*x_ucr**3 + n*Asc*(x_ucr-c)**2 + (b/3)*(h-x_ucr)**3 + n*As*(d-x_ucr)**2 \n",
    "JidI.evalf()"
   ]
  },
  {
   "cell_type": "markdown",
   "metadata": {},
   "source": [
    "For cracked section:"
   ]
  },
  {
   "cell_type": "code",
   "execution_count": 7,
   "metadata": {},
   "outputs": [
    {
     "name": "stdout",
     "output_type": "stream",
     "text": [
      "[-320.862993986493, 164.411679837721]\n"
     ]
    },
    {
     "data": {
      "text/latex": [
       "$\\displaystyle 164.411679837721$"
      ],
      "text/plain": [
       "164.411679837721"
      ]
     },
     "execution_count": 7,
     "metadata": {},
     "output_type": "execute_result"
    }
   ],
   "source": [
    "NA_eq = sp.Eq(b*x**2/2 + n*Asc*(x-c) - n*As*(d-x),0)\n",
    "NA = sp.solve(NA_eq, x)\n",
    "print(NA)\n",
    "x_cr = next(num for num in NA if num > 0).evalf()\n",
    "x_cr.evalf()"
   ]
  },
  {
   "cell_type": "code",
   "execution_count": 8,
   "metadata": {},
   "outputs": [
    {
     "data": {
      "text/latex": [
       "$\\displaystyle 1652790335.55437$"
      ],
      "text/plain": [
       "1652790335.55437"
      ]
     },
     "execution_count": 8,
     "metadata": {},
     "output_type": "execute_result"
    }
   ],
   "source": [
    "JidII = (b/3)*x_cr**3 + n*Asc*(x_cr-c)**2 + n*As*(d-x_cr)**2\n",
    "JidII.evalf()"
   ]
  },
  {
   "cell_type": "markdown",
   "metadata": {},
   "source": [
    "Ec - Young's Modulous of concrete, according to Eurocode 2, the formula is \n",
    "Ec = 22((fck+8)/10)^0.3"
   ]
  },
  {
   "cell_type": "code",
   "execution_count": 9,
   "metadata": {},
   "outputs": [
    {
     "data": {
      "text/plain": [
       "29.96195105464031"
      ]
     },
     "execution_count": 9,
     "metadata": {},
     "output_type": "execute_result"
    }
   ],
   "source": [
    "fck = 20\n",
    "Ec = 22*((fck+8)/10)**0.3\n",
    "Ec"
   ]
  },
  {
   "cell_type": "markdown",
   "metadata": {},
   "source": [
    "Mrd"
   ]
  },
  {
   "cell_type": "code",
   "execution_count": 10,
   "metadata": {},
   "outputs": [
    {
     "name": "stdout",
     "output_type": "stream",
     "text": [
      "90.9937002606251\n"
     ]
    },
    {
     "data": {
      "text/latex": [
       "$\\displaystyle 183.710650205289$"
      ],
      "text/plain": [
       "183.710650205289"
      ]
     },
     "execution_count": 10,
     "metadata": {},
     "output_type": "execute_result"
    }
   ],
   "source": [
    "fyd = 450/1.15\n",
    "fck = 30\n",
    "fcd = 0.85*fck/1.5\n",
    "x_ult = (fyd*(As-Asc))/(0.8*b*fcd)\n",
    "print(x_ult.evalf())\n",
    "\n",
    "Mrd = As * fyd * (d - 0.4 * x_ult) / (10**6)\n",
    "Mrd.evalf()"
   ]
  },
  {
   "cell_type": "code",
   "execution_count": 11,
   "metadata": {},
   "outputs": [
    {
     "name": "stdout",
     "output_type": "stream",
     "text": [
      "1.02165614750888 0.771350391369201 155.415515691784\n"
     ]
    }
   ],
   "source": [
    "Es = 210000\n",
    "ρs1 = (As)/(b*d)\n",
    "ρs2 = (As-Asc)/(b*d)\n",
    "εsy = fyd/Es\n",
    "Xel = (n*ρs2*d)*(-1+sp.sqrt(1+(2/(n*ρs2))))\n",
    "Xel.evalf()\n",
    "φel = εsy/(d-Xel)\n",
    "φel.evalf()\n",
    "print(ρs1*100,ρs2*100,Xel.evalf())\n",
    "\n"
   ]
  },
  {
   "cell_type": "code",
   "execution_count": 12,
   "metadata": {},
   "outputs": [
    {
     "data": {
      "text/latex": [
       "$\\displaystyle 3.84642012576174 \\cdot 10^{-5}$"
      ],
      "text/plain": [
       "3.84642012576174e-5"
      ]
     },
     "execution_count": 12,
     "metadata": {},
     "output_type": "execute_result"
    }
   ],
   "source": [
    "εcu = 0.0035\n",
    "x_ult = (fyd*(As-Asc))/(0.8*b*fcd)\n",
    "φu = εcu/x_ult\n",
    "φu.evalf()"
   ]
  },
  {
   "cell_type": "code",
   "execution_count": 13,
   "metadata": {},
   "outputs": [
    {
     "data": {
      "text/latex": [
       "$\\displaystyle 5.25524867827057$"
      ],
      "text/plain": [
       "5.25524867827057"
      ]
     },
     "execution_count": 13,
     "metadata": {},
     "output_type": "execute_result"
    }
   ],
   "source": [
    "Ds = φu/φel\n",
    "Ds.evalf()"
   ]
  },
  {
   "cell_type": "code",
   "execution_count": 17,
   "metadata": {},
   "outputs": [
    {
     "data": {
      "text/latex": [
       "$\\displaystyle 5.75940438249331$"
      ],
      "text/plain": [
       "5.75940438249331"
      ]
     },
     "execution_count": 17,
     "metadata": {},
     "output_type": "execute_result"
    }
   ],
   "source": [
    "import matplotlib.pyplot as plt\n",
    "\n",
    "# Define symbols\n",
    "# ρs2 = sp.Symbol('ρs2')\n",
    "# Es = 210000\n",
    "# fyd = 391.3  # Example value, replace with actual value\n",
    "# fcd =   # Example value, replace with actual value\n",
    "# b = 300  # Example value, replace with actual value\n",
    "# d = 500  # Example value, replace with actual value\n",
    "# As = 1500  # Example value, replace with actual value\n",
    "# Asc = 200  # Example value, replace with actual value\n",
    "# n = Es / (0.85 * fcd)\n",
    "ρs2 = 0.005\n",
    "# Calculate εsy, Xel, φel\n",
    "εsy = fyd / Es\n",
    "Xel = (n * ρs2*d) * (-1 + sp.sqrt(1 + (2 / (n * ρs2))))\n",
    "φel = εsy / (d - Xel)\n",
    "\n",
    "# Calculate εcu, x_ult, φu\n",
    "εcu = 0.0035\n",
    "x_ult = (fyd * (As - Asc)) / (0.8 * b * fcd)\n",
    "φu = εcu / x_ult\n",
    "\n",
    "Ds = φu / φel\n",
    "Ds.evalf()\n",
    "\n",
    "# # Define the range for ρs2\n",
    "# ps_values = np.linspace(0.002, 0.015, 100)\n",
    "\n",
    "# # Calculate ductility for each ρs2 value\n",
    "# ductility_values = [φu / φel.evalf(subs={ρs2: ps}) for ps in ps_values]\n",
    "\n",
    "# # Calculate ductility values at specific ρs2 values\n",
    "# ps_05 = 0.005\n",
    "# ps_10 = 0.01\n",
    "# ductility_05 = φu / φel.evalf(subs={ρs2: ps_05})\n",
    "# ductility_10 = φu / φel.evalf(subs={ρs2: ps_10})\n",
    "\n",
    "# # Plot the graph\n",
    "# plt.plot(ps_values, ductility_values, label='Ductility vs ρs2')\n",
    "# plt.scatter([ps_05, ps_10], [ductility_05, ductility_10], color='red')  # Markers for specific points\n",
    "# plt.text(ps_05, ductility_05, f'({ps_05}, {ductility_05:.2f})', fontsize=9, ha='right')\n",
    "# plt.text(ps_10, ductility_10, f'({ps_10}, {ductility_10:.2f})', fontsize=9, ha='right')\n",
    "# plt.xlabel('ρs2')\n",
    "# plt.ylabel('Ductility')\n",
    "# plt.title('Ductility vs ρs2')\n",
    "# plt.grid(True)\n",
    "# plt.legend()\n",
    "# plt.show()"
   ]
  },
  {
   "cell_type": "code",
   "execution_count": 76,
   "metadata": {},
   "outputs": [
    {
     "name": "stdout",
     "output_type": "stream",
     "text": [
      "17.0 391.304347826087 15 0.0035 0.001863354037267081\n"
     ]
    },
    {
     "data": {
      "image/png": "[encoded data removed]",
      "text/plain": [
       "<Figure size 640x480 with 1 Axes>"
      ]
     },
     "metadata": {},
     "output_type": "display_data"
    }
   ],
   "source": [
    "# Define the range for ρs\n",
    "ps_values = np.linspace(0.002, 0.015, 100)\n",
    "print(fcd,fyd,n,εcu,εsy)\n",
    "Ds_values = []\n",
    "for ps in ps_values:\n",
    "    Ds_values.append((εcu/εsy)*((0.8*fcd)/(ps*fyd))*((1-n*ps*(-1+sp.sqrt(1+(2/(n*ps)))))))\n",
    "\n",
    "# for Ds in Ds_values:\n",
    "#     print(Ds.evalf())\n",
    "\n",
    "ps_05 = 0.005\n",
    "ps_10 = 0.01\n",
    "ductility_05 = (εcu/εsy)*((0.8*fcd)/(ps_05*fyd))*((1-n*ps_05*(-1+sp.sqrt(1+(2/(n*ps_05))))))\n",
    "ductility_10 = (εcu/εsy)*((0.8*fcd)/(ps_10*fyd))*((1-n*ps_10*(-1+sp.sqrt(1+(2/(n*ps_10))))))\n",
    "#plot\n",
    "plt.plot(ps_values, Ds_values, label='Ductility vs ρs')\n",
    "plt.scatter([ps_05, ps_10], [ductility_05, ductility_10], color='red')  # Markers for specific points\n",
    "plt.text(ps_05, ductility_05, f'({ps_05}, {ductility_05:.2f})', fontsize=9, ha='right')\n",
    "plt.text(ps_10, ductility_10, f'({ps_10}, {ductility_10:.2f})', fontsize=9, ha='right')\n",
    "plt.xlabel('ρs')\n",
    "plt.ylabel('Ds')\n",
    "plt.title('Ds vs ρs')\n",
    "plt.grid(True)\n",
    "plt.legend()\n",
    "plt.show()\n",
    "\n"
   ]
  }
 ],
 "metadata": {
  "kernelspec": {
   "display_name": ".venv",
   "language": "python",
   "name": "python3"
  },
  "language_info": {
   "codemirror_mode": {
    "name": "ipython",
    "version": 3
   },
   "file_extension": ".py",
   "mimetype": "text/x-python",
   "name": "python",
   "nbconvert_exporter": "python",
   "pygments_lexer": "ipython3",
   "version": "3.13.0"
  }
 },
 "nbformat": 4,
 "nbformat_minor": 2
}
