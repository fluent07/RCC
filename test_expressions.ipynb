{
 "cells": [
  {
   "cell_type": "code",
   "execution_count": 1,
   "metadata": {},
   "outputs": [],
   "source": [
    "import sympy as s\n",
    "import numpy as np"
   ]
  },
  {
   "cell_type": "code",
   "execution_count": 2,
   "metadata": {},
   "outputs": [],
   "source": [
    "x1, x2, x3, P, L, EI, t = s.symbols(\"x1 x2 x3 P L EI t\", real=True)"
   ]
  },
  {
   "cell_type": "code",
   "execution_count": 6,
   "metadata": {},
   "outputs": [
    {
     "name": "stdout",
     "output_type": "stream",
     "text": [
      "85.3333333333333\n"
     ]
    }
   ],
   "source": [
    "v = t * (8 - t)\n",
    "iv = s.integrate(v, (t, 0, 8))\n",
    "print(iv.n())"
   ]
  },
  {
   "cell_type": "code",
   "execution_count": 7,
   "metadata": {},
   "outputs": [
    {
     "data": {
      "text/latex": [
       "$\\displaystyle - 2 L P$"
      ],
      "text/plain": [
       "-2*L*P"
      ]
     },
     "execution_count": 7,
     "metadata": {},
     "output_type": "execute_result"
    }
   ],
   "source": [
    "MA = -P*(L+L/2)-P*(L/2)\n",
    "s.simplify(MA)"
   ]
  },
  {
   "cell_type": "code",
   "execution_count": 17,
   "metadata": {},
   "outputs": [
    {
     "data": {
      "text/latex": [
       "$\\displaystyle - \\frac{P x_{1} \\cdot \\left(1 - \\frac{x_{1}}{L}\\right)}{L}$"
      ],
      "text/plain": [
       "-P*x1*(1 - x1/L)/L"
      ]
     },
     "execution_count": 17,
     "metadata": {},
     "output_type": "execute_result"
    }
   ],
   "source": [
    "m1 = -1 / L * x1 + 1\n",
    "M1 = -P / L * x1\n",
    "m1 * M1\n",
    "# s.srepr(y)"
   ]
  },
  {
   "cell_type": "code",
   "execution_count": 5,
   "metadata": {},
   "outputs": [
    {
     "data": {
      "text/latex": [
       "$\\displaystyle 0.125 P x_{2}^{2}$"
      ],
      "text/plain": [
       "0.125*P*x2**2"
      ]
     },
     "execution_count": 5,
     "metadata": {},
     "output_type": "execute_result"
    }
   ],
   "source": [
    "m2 = -1 / 2 * x2\n",
    "M2 = -P / 4 * x2\n",
    "m2 * M2"
   ]
  },
  {
   "cell_type": "code",
   "execution_count": 15,
   "metadata": {},
   "outputs": [
    {
     "data": {
      "text/latex": [
       "$\\displaystyle - \\frac{P \\left(- 0.25 L + 0.5 x_{3}\\right) \\left(\\frac{L}{2} + x_{3}\\right)}{4}$"
      ],
      "text/plain": [
       "-P*(-0.25*L + 0.5*x3)*(L/2 + x3)/4"
      ]
     },
     "execution_count": 15,
     "metadata": {},
     "output_type": "execute_result"
    }
   ],
   "source": [
    "m3 = -1 / 2 * (L / 2 + x3) + x3\n",
    "M3 = -P / 4 * (L / 2 + x3)\n",
    "m3 * M3"
   ]
  },
  {
   "cell_type": "code",
   "execution_count": 18,
   "metadata": {},
   "outputs": [],
   "source": [
    "im1 = s.integrate(m1 * M1, (x1, 0, L))\n",
    "# im2 = s.integrate(m2 * M2, (x2, 0, L/2))\n",
    "# im3 = s.integrate(m3 * M3, (x3 ,0, L/4))"
   ]
  },
  {
   "cell_type": "code",
   "execution_count": 19,
   "metadata": {},
   "outputs": [
    {
     "data": {
      "text/latex": [
       "$\\displaystyle - \\frac{L P}{6}$"
      ],
      "text/plain": [
       "-L*P/6"
      ]
     },
     "execution_count": 19,
     "metadata": {},
     "output_type": "execute_result"
    }
   ],
   "source": [
    "q1 = s.simplify(im1)\n",
    "q1"
   ]
  },
  {
   "cell_type": "code",
   "execution_count": 18,
   "metadata": {},
   "outputs": [
    {
     "data": {
      "text/latex": [
       "$\\displaystyle 0.00520833333333333 L^{3} P$"
      ],
      "text/plain": [
       "0.00520833333333333*L**3*P"
      ]
     },
     "execution_count": 18,
     "metadata": {},
     "output_type": "execute_result"
    }
   ],
   "source": [
    "q2 = s.simplify(im2)\n",
    "q2"
   ]
  },
  {
   "cell_type": "code",
   "execution_count": 19,
   "metadata": {},
   "outputs": [
    {
     "data": {
      "text/latex": [
       "$\\displaystyle 0.00716145833333333 L^{3} P$"
      ],
      "text/plain": [
       "0.00716145833333333*L**3*P"
      ]
     },
     "execution_count": 19,
     "metadata": {},
     "output_type": "execute_result"
    }
   ],
   "source": [
    "q3 = s.simplify(im3)\n",
    "q3"
   ]
  },
  {
   "cell_type": "code",
   "execution_count": 20,
   "metadata": {},
   "outputs": [
    {
     "data": {
      "text/latex": [
       "$\\displaystyle \\frac{0.0143229166666667 L^{3} P}{EI}$"
      ],
      "text/plain": [
       "0.0143229166666667*L**3*P/EI"
      ]
     },
     "execution_count": 20,
     "metadata": {},
     "output_type": "execute_result"
    }
   ],
   "source": [
    "# q = q1 + q2\n",
    "q = q1 + q2 + q3\n",
    "deflection = s.simplify(q/EI)\n",
    "deflection"
   ]
  },
  {
   "cell_type": "code",
   "execution_count": 12,
   "metadata": {},
   "outputs": [
    {
     "data": {
      "text/latex": [
       "$\\displaystyle \\frac{2716571295229883}{72057594037927936}$"
      ],
      "text/plain": [
       "2716571295229883/72057594037927936"
      ]
     },
     "execution_count": 12,
     "metadata": {},
     "output_type": "execute_result"
    }
   ],
   "source": [
    "s.Rational(0.0377)"
   ]
  },
  {
   "cell_type": "code",
   "execution_count": 25,
   "metadata": {},
   "outputs": [
    {
     "data": {
      "text/plain": [
       "-0.09000000000000002"
      ]
     },
     "execution_count": 25,
     "metadata": {},
     "output_type": "execute_result"
    }
   ],
   "source": [
    "b = 300\n",
    "d = 600\n",
    "I = b * d**3 / 12\n",
    "by = 48 * 0.0143\n",
    "n = 1 / 2 - 0.68\n",
    "n / 2"
   ]
  },
  {
   "cell_type": "code",
   "execution_count": 21,
   "metadata": {},
   "outputs": [
    {
     "data": {
      "text/latex": [
       "$\\displaystyle 0.076$"
      ],
      "text/plain": [
       "0.076"
      ]
     },
     "execution_count": 21,
     "metadata": {},
     "output_type": "execute_result"
    }
   ],
   "source": [
    "round(deflection.subs({P:6000, L:10000, EI:54*21*10**12}).n(),3)"
   ]
  }
 ],
 "metadata": {
  "kernelspec": {
   "display_name": ".venv",
   "language": "python",
   "name": "python3"
  },
  "language_info": {
   "codemirror_mode": {
    "name": "ipython",
    "version": 3
   },
   "file_extension": ".py",
   "mimetype": "text/x-python",
   "name": "python",
   "nbconvert_exporter": "python",
   "pygments_lexer": "ipython3",
   "version": "3.13.0"
  }
 },
 "nbformat": 4,
 "nbformat_minor": 2
}
