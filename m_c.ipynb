{
 "cells": [
  {
   "cell_type": "code",
   "execution_count": 1,
   "id": "61224a06",
   "metadata": {},
   "outputs": [],
   "source": [
    "import numpy as np\n",
    "import matplotlib.pyplot as plt\n",
    "import math as m\n",
    "from sympy import symbols, Eq, solve\n",
    "import pandas as pd"
   ]
  },
  {
   "cell_type": "code",
   "execution_count": 109,
   "id": "68cdab20",
   "metadata": {},
   "outputs": [
    {
     "name": "stdout",
     "output_type": "stream",
     "text": [
      "Modulus of Elasticity of Concrete (Ec): 31475.806210019346 MPa\n",
      "Modular ratio (n): 15.0\n"
     ]
    }
   ],
   "source": [
    "# --- Given Data ---\n",
    "b = 300  # mm, width of section\n",
    "h = 450 # mm, total height\n",
    "c = 40  # mm, cover from top and bottom\n",
    "d = h-c\n",
    "# h = d + c  # mm, effective height of section\n",
    "n = 7.51  # Modular ratio\n",
    "tr = 25.4 # tension reinforcement\n",
    "n_tr = 4 # no of tension reinforcement\n",
    "cr = 25.4 # compression reinforcement\n",
    "n_cr =2 # no of compression reinforcement\n",
    "# Reinforcement details\n",
    "# Asc = n_cr * (m.pi / 4) * cr**2  # Compression reinforcement area (mm^2)\n",
    "# As = n_tr * (m.pi / 4) * tr**2  # Tension reinforcement area (mm^2)\n",
    "As = 3039 # mm^2, tension reinforcement area (mm^2)\n",
    "Asc = 1548 # mm^2, compression reinforcement area (mm^2)\n",
    "# Material properties\n",
    "f_ck = 25  # MPa, characteristic compressive strength of concrete\n",
    "f_y =  276 # MPa, yield strength of steel\n",
    "gamma_c = 1.5  # Safety factor for concrete\n",
    "gamma_s = 1.15  # Safety factor for steel\n",
    "alpha_cc = 0.85  # Concrete strength reduction factor\n",
    "Es = 200000  # Young's modulus of steel\n",
    "\n",
    "# Design strengths\n",
    "fcd = alpha_cc * (f_ck / gamma_c)  # MPa\n",
    "# fcd = 20.7  # MPa\n",
    "fyd = f_y / gamma_s  # MPa\n",
    "\n",
    "\n",
    "f_cm = f_ck + 8  # MPa, mean compressive strength of concrete\n",
    "# Calculate modulus of elasticity of concrete (Ec) in MPa\n",
    "Ec = 22 * ((f_cm / 10) ** 0.3) * 1000  # Convert GPa to MPa\n",
    "print(f\"Modulus of Elasticity of Concrete (Ec): {Ec} MPa\")\n",
    "Ct = 1.361\n",
    "n = round(Es / Ec * ( 1 + Ct ),2) # Modular ratio\n",
    "print(\"Modular ratio (n):\", n)\n"
   ]
  },
  {
   "cell_type": "code",
   "execution_count": 3,
   "id": "712a54fa",
   "metadata": {},
   "outputs": [],
   "source": [
    "def newtonR(f, x0):\n",
    "    tolf = 1e-08\n",
    "    tolx = 1e-08\n",
    "    dx = 1e-08\n",
    "    df = lambda x: (f(x + dx) - f(x)) / dx\n",
    "    iter_root = [x0]\n",
    "    for k in range(1000):\n",
    "        iter_root.append(iter_root[k] - (f(iter_root[k]) / df(iter_root[k])))\n",
    "        if abs(f(iter_root[k + 1])) <= tolf or abs(iter_root[k + 1] - iter_root[k]) <= tolx:\n",
    "            return iter_root[k + 1]\n",
    "    raise ValueError(\"Newton-Raphson method did not converge.\")"
   ]
  },
  {
   "cell_type": "code",
   "execution_count": 4,
   "id": "f1af34fc",
   "metadata": {},
   "outputs": [
    {
     "name": "stdout",
     "output_type": "stream",
     "text": [
      "I_uncr: 4548978612.055641 mm^4\n",
      "I_uncr: 10928.96483127929 in^4\n",
      "f_ctm: 2.564963920015045 MPa\n",
      "f_ctm: 372.01723703114214 psi\n",
      "--- Results ---\n",
      "Neutral Axis (Uncracked): 245.301 mm\n",
      "Moment of Inertia (Uncracked): 4548978612.055641\n",
      "Neutral Axis (Cracked): 198.893 mm\n",
      "Moment of Inertia (Cracked): 3404573045.379113\n",
      "Neutral Axis Depth at failure (x_ult): 105.247 mm\n",
      "Moment of Resistance M_rd: 268.3324020705883\n",
      "Moment of First Crack (M_cr): 57.000709833202315\n"
     ]
    }
   ],
   "source": [
    "# --- Calculations ---\n",
    "# Ultimate Neutral axis depth (x) from force equilibrium\n",
    "x_ult = (As - Asc) * fyd / (0.8 * fcd * b)\n",
    "\n",
    "# Design moment resistance (Mrd)\n",
    "M_rd = As * fyd * (d - 0.4 * x_ult) / (10**6)  # Convert to kNm\n",
    "M_rd2 = (fcd * 0.8 * x_ult * b * (d - 0.4 * x_ult) + fyd * Asc * (d - c)) * 1e-6\n",
    "\n",
    "# Uncracked moment of inertia (I_uncr) - for a rectangular section\n",
    "Eqn_NA_Uncracked = (\n",
    "    lambda x_uncr: ((b * x_uncr**2) / 2)\n",
    "    + (n * Asc * (x_uncr - c))\n",
    "    - ((b * (h - x_uncr) ** 2) / 2)\n",
    "    - (n * As * (d - x_uncr))\n",
    ")\n",
    "NA_uncracked = newtonR(Eqn_NA_Uncracked, 100)  # Neutral axis of uncracked section\n",
    "# print(\"NA_uncracked:\",NA_uncracked,\"mm\")\n",
    "\n",
    "I_uncr = (\n",
    "    (b / 3) * NA_uncracked**3\n",
    "    + n * Asc * (NA_uncracked - c) ** 2\n",
    "    + (b / 3) * (h - NA_uncracked) ** 3\n",
    "    + n * As * (d - NA_uncracked) ** 2\n",
    ")\n",
    "I_uncr_in_inches = I_uncr / (25.4**4)  # Convert mm^4 to in^4\n",
    "print(\"I_uncr:\", I_uncr, \"mm^4\")\n",
    "print(\"I_uncr:\", I_uncr_in_inches, \"in^4\")\n",
    "\n",
    "\n",
    "# Cracked moment of inertia (I_cr) - transformed section\n",
    "Eqn_NA_cracked = lambda x_cr: (b * x_cr**2 / 2) + (n * Asc * (x_cr - c)) - (n * As * (d - x_cr))\n",
    "NA_cracked = newtonR(Eqn_NA_cracked, 100)\n",
    "\n",
    "# Parallel axis theorem to find I_cr\n",
    "I_cr = (\n",
    "    (b / 3) * NA_cracked**3\n",
    "    + n * Asc * (NA_cracked - c) ** 2\n",
    "    + n * As * (d - NA_cracked) ** 2\n",
    ")  # (b * x**3) / 3 + (n * As * (d - y_n)**2) + (n * Asc * (y_n - c)**2)\n",
    "\n",
    "# First moment of cracking (M_cr)\n",
    "f_ctm = 0.3 * (f_ck ** (2 / 3))  # MPa, mean tensile strength of concrete\n",
    "y = h / 2  # Distance to extreme fiber\n",
    "f_ctm_psi = f_ctm * 145.038  # Convert MPa to psi\n",
    "print(\"f_ctm:\", f_ctm, \"MPa\")\n",
    "print(\"f_ctm:\", f_ctm_psi, \"psi\")\n",
    "M_cr = (f_ctm * I_uncr) / (h - NA_uncracked) / (10**6)  # Convert to kNm\n",
    "\n",
    "results = {\n",
    "    \"Neutral Axis (Uncracked)\": (f\"{NA_uncracked:.3f} mm\", \"((b * x_uncr^2) / 2)+(n * Asc * (x_uncr - c)) = ((b * (h - x_uncr)^2) / 2)+(n * As * (d - x_uncr))\"),\n",
    "    \"Moment of Inertia (Uncracked)\": (I_uncr, \"(b / 3) * NA_uncracked^3 + n * Asc * (NA_uncracked - c)^2 + (b / 3) * (h - NA_uncracked)^3 + n * As * (d - NA_uncracked)^2\"),\n",
    "    \"Neutral Axis (Cracked)\": (f\"{NA_cracked:.3f} mm\", \"(b * x_cr^2 / 2) + (n * Asc * (x_cr - c)) = (n * As * (d - x_cr))\"),\n",
    "    \"Moment of Inertia (Cracked)\": (I_cr, \"(b / 3) * NA_cracked^3 + n * Asc * (NA_cracked - c)^2 + n * As * (d - NA_cracked)^2\"),\n",
    "    \"Neutral Axis Depth at failure (x_ult)\": (f\"{x_ult:.3f} mm\", \"(As - Asc) * fyd / (0.8 * fcd * b)\"),\n",
    "    \"Moment of Resistance M_rd\": (M_rd, \"M_rd = As * fyd * (d - 0.4 * x)\"),\n",
    "    # \"Moment of Resistance M_rd2\": (M_rd2, \"M_rd2 = (fcd * 0.8 * x * b * (d - 0.4 * x) + fyd * Asc * (d - c)) * 1e-6\"),\n",
    "    \"Moment of First Crack (M_cr)\": (M_cr, \"M_cr = (f_ctm * I_uncr) / (h - x)\"),\n",
    "}\n",
    "\n",
    "print(\"--- Results ---\")\n",
    "for key, value in results.items():\n",
    "    print(f\"{key}: {value[0]}\")"
   ]
  },
  {
   "cell_type": "code",
   "execution_count": 5,
   "id": "adb42afc",
   "metadata": {},
   "outputs": [
    {
     "name": "stdout",
     "output_type": "stream",
     "text": [
      "neutral axis depth (mm): 198.89341501066895\n",
      "neutral axis depth (inches): 7.830449409868857\n",
      "fc: 5.84194882470267 MPa\n",
      "fs: 93.0101581793894 MPa\n",
      "fsc: 70.0058771949372 MPa\n"
     ]
    }
   ],
   "source": [
    "ρ = As / (b * d)  # Reinforcement ratio\n",
    "ρ_cr = Asc / (b * d)  # Compression reinforcement ratio\n",
    "\n",
    "k = ((((ρ+ρ_cr)**2 * n**2) + (2*n*(ρ + ρ_cr*(c/d))))** 0.5) - ((ρ + ρ_cr) * n) # Neutral axis depth ratio\n",
    "print(\"neutral axis depth (mm):\", k * d)\n",
    "print(\"neutral axis depth (inches):\", (k * d) / 25.4)\n",
    "\n",
    "moment = 100  # kN·m\n",
    "\n",
    "from sympy import symbols, Eq, solve\n",
    "import pandas as pd\n",
    "fc = symbols('fc')\n",
    "fsc = ((k*d - c) / (k * d)) * (n*fc)\n",
    "fs = ((1-k)/k) *n*fc\n",
    "eq = Eq(0.5 * fc * b * k * d * (d - (k*d/3)) + (fsc * Asc * (d - c)), moment*1e6)\n",
    "sol = solve(eq, fc)\n",
    "print(\"fc:\", sol[0], \"MPa\")\n",
    "print(\"fs:\", fs.subs(fc, sol[0]), \"MPa\")\n",
    "print(\"fsc:\", fsc.subs(fc, sol[0]), \"MPa\")"
   ]
  },
  {
   "cell_type": "code",
   "execution_count": 16,
   "id": "72ca8983",
   "metadata": {},
   "outputs": [],
   "source": [
    "import openpyxl\n",
    "# Generate a range of moments from 0 to M_cr\n",
    "moments = np.linspace(0, M_cr, 100)\n",
    "fc_values = []\n",
    "fs_values = []\n",
    "fsc_values = []\n",
    "\n",
    "# Create a new workbook and select the active worksheet\n",
    "wb = openpyxl.Workbook()\n",
    "ws = wb.active\n",
    "\n",
    "# Write headers\n",
    "ws.append(['Moment (kNm)', 'fc (MPa)', 'fs (MPa)', 'fsc (MPa)'])\n",
    "\n",
    "# Populate fc_values, fs_values, and fsc_values by solving for each moment\n",
    "for moment in moments:\n",
    "    eq = Eq(0.5 * fc * b * k * d * (d - (k * d / 3)) + (fsc * Asc * (d - c)), moment * 1e6)\n",
    "    sol = solve(eq, fc)\n",
    "    if sol:\n",
    "        fc_value = float(sol[0])\n",
    "        fc_values.append(fc_value)\n",
    "        fs_values.append(float(fs.subs(fc, fc_value)))\n",
    "        fsc_values.append(float(fsc.subs(fc, fc_value)))\n",
    "    else:\n",
    "        fc_values.append(0)\n",
    "        fs_values.append(0)\n",
    "        fsc_values.append(0)\n",
    "\n",
    "# Write data to the worksheet\n",
    "for moment, fc_value, fs_value, fsc_value in zip(moments, fc_values, fs_values, fsc_values):\n",
    "    ws.append([moment, fc_value, fs_value, fsc_value])\n",
    "\n",
    "# Save the workbook to an Excel file\n",
    "wb.save('moments_fc_fs_fsc_values.xlsx')\n"
   ]
  },
  {
   "cell_type": "code",
   "execution_count": 49,
   "id": "6c87fe53",
   "metadata": {},
   "outputs": [
    {
     "data": {
      "text/plain": [
       "24.248601993974244"
      ]
     },
     "execution_count": 49,
     "metadata": {},
     "output_type": "execute_result"
    }
   ],
   "source": [
    "fc_values[-1]/fs_values[-1] * d / 1.062 # Ratio of fc to fs at first crack"
   ]
  },
  {
   "cell_type": "code",
   "execution_count": 108,
   "id": "0c66482b",
   "metadata": {},
   "outputs": [
    {
     "name": "stdout",
     "output_type": "stream",
     "text": [
      "[0.0, 1.06862653732503e-06, 2.137253074650053e-06, 3.205879611975098e-06, 4.274506149300125e-06, 5.343132686625151e-06, 6.411759223950177e-06, 7.480385761275222e-06, 8.54901229860025e-06, 9.617638835925275e-06, 1.0686265373250302e-05, 1.1754891910575347e-05, 1.2823518447900373e-05, 1.3892144985225401e-05, 1.4960771522550427e-05, 1.6029398059875472e-05, 1.70980245972005e-05, 1.8166651134525525e-05, 1.923527767185055e-05, 2.030390420917554e-05, 2.137253074650053e-05, 2.2441157283825708e-05, 2.3509783821150693e-05, 2.4578410358475682e-05, 2.564703689580067e-05, 2.6715663433125847e-05, 2.7784289970450836e-05, 2.8852916507775828e-05, 2.9921543045100814e-05, 3.0990169582425806e-05, 3.205879611975098e-05, 3.312742265707597e-05, 3.4196049194400956e-05, 3.526467573172595e-05, 3.6333302269051124e-05, 3.740192880637611e-05, 3.84705553437011e-05, 3.953918188102609e-05, 4.060780841835108e-05, 4.167643495567626e-05, 4.274506149300125e-05, 4.381368803032624e-05, 4.488231456765122e-05, 4.59509411049764e-05, 4.701956764230139e-05, 4.8088194179626376e-05, 4.9156820716951365e-05, 5.022544725427636e-05, 5.129407379160153e-05, 5.2362700328926515e-05, 5.343132686625151e-05, 5.44999534035765e-05, 5.556857994090167e-05, 5.663720647822667e-05, 5.7705833015551656e-05, 5.877445955287664e-05, 5.984308609020163e-05, 6.0911712627526806e-05, 6.198033916485179e-05, 6.304896570217678e-05, 6.411759223950178e-05, 6.518621877682696e-05, 6.625484531415193e-05, 6.732347185147694e-05, 6.839209838880191e-05, 6.946072492612709e-05, 7.052935146345208e-05, 7.159797800077707e-05, 7.266660453810206e-05, 7.373523107542706e-05, 7.480385761275223e-05, 7.587248415007721e-05, 7.69411106874022e-05, 7.800973722472719e-05, 7.907836376205237e-05, 8.014699029937736e-05, 8.121561683670235e-05, 8.228424337402734e-05, 8.335286991135231e-05, 8.442149644867749e-05, 8.54901229860025e-05, 8.655874952332747e-05, 8.762737606065247e-05, 8.869600259797765e-05, 8.976462913530263e-05, 9.083325567262762e-05, 9.190188220995262e-05, 9.29705087472776e-05, 9.403913528460277e-05, 9.510776182192778e-05, 9.617638835925275e-05, 9.724501489657774e-05, 9.831364143390273e-05, 9.938226797122791e-05, 0.0001004508945085529, 0.00010151952104587789, 0.00010258814758320307, 0.00010365677412052805, 0.00010472540065785303, 0.00010579402719517803]\n"
     ]
    },
    {
     "data": {
      "text/plain": [
       "0.39909887002398053"
      ]
     },
     "execution_count": 108,
     "metadata": {},
     "output_type": "execute_result"
    }
   ],
   "source": [
    "strain_concrete = []\n",
    "strain_steel = []\n",
    "strain_steel_compression = []\n",
    "for i in range(len(fc_values)):\n",
    "    strain_concrete.append(fc_values[i] / Ec)  # Strain in concrete\n",
    "    strain_steel.append(fs_values[i] / Es)  # Strain in steel\n",
    "    strain_steel_compression.append(fsc_values[i] / Es)  # Strain in compression steel  \n",
    "print(strain_concrete)\n",
    "strain_concrete[-9]/strain_steel[-9] #* d / (1+(strain_concrete[-9]/strain_steel[-9]))# Ratio of strain in concrete to strain in steel at first crack\n",
    " "
   ]
  },
  {
   "cell_type": "code",
   "execution_count": 45,
   "id": "21208dbb",
   "metadata": {},
   "outputs": [
    {
     "name": "stdout",
     "output_type": "stream",
     "text": [
      "Neutral Axis Depths: [24.230126101702044, 24.230126101702044, 24.230126101702044, 24.230126101702044, 24.230126101702044, 24.230126101702044, 24.230126101702044, 24.230126101702044, 24.230126101702044, 24.230126101702044, 24.230126101702044, 24.230126101702044, 24.230126101702044, 24.230126101702044, 24.230126101702044, 24.230126101702044, 24.230126101702044, 24.230126101702044, 24.230126101702044, 24.230126101702044, 24.230126101702044, 24.230126101702044, 24.230126101702044, 24.230126101702044, 24.230126101702044, 24.230126101702044, 24.230126101702044, 24.230126101702044, 24.230126101702044, 24.230126101702044, 24.230126101702044, 24.230126101702044, 24.230126101702044, 24.230126101702044, 24.230126101702044, 24.230126101702044, 24.230126101702044, 24.230126101702044, 24.230126101702044, 24.230126101702044, 24.230126101702044, 24.230126101702044, 24.230126101702044, 24.230126101702044, 24.230126101702044, 24.230126101702044, 24.230126101702044, 24.230126101702044, 24.230126101702044, 24.230126101702044, 24.230126101702044, 24.230126101702044, 24.230126101702044, 24.230126101702044, 24.230126101702044, 24.230126101702044, 24.230126101702044, 24.230126101702044, 24.230126101702044, 24.230126101702044, 24.230126101702044, 24.230126101702044, 24.230126101702044, 24.230126101702044, 24.230126101702044, 24.230126101702044, 24.230126101702044, 24.230126101702044, 24.230126101702044, 24.230126101702044, 24.230126101702044, 24.230126101702044, 24.230126101702044, 24.230126101702044, 24.230126101702044, 24.230126101702044, 24.230126101702044, 24.230126101702044, 24.230126101702044, 24.230126101702044, 24.230126101702044, 24.230126101702044, 24.230126101702044, 24.230126101702044, 24.230126101702044, 24.230126101702044, 24.230126101702044, 24.230126101702044, 24.230126101702044, 24.230126101702044, 24.230126101702044, 24.230126101702044, 24.230126101702044, 24.230126101702044, 24.230126101702044, 24.230126101702044, 24.230126101702044, 24.230126101702044, 24.230126101702044]\n"
     ]
    }
   ],
   "source": [
    "from sympy import symbols\n",
    "\n",
    "# Define x as a symbolic variable\n",
    "x = symbols('x')\n",
    "neutral_axis_depths = []\n",
    "\n",
    "for i in range(1, len(fc_values)):  # Start range from 1\n",
    "    fc_value = fc_values[i]\n",
    "    fs_value = fs_values[i]\n",
    "    # Solve for the neutral axis depth using the equation\n",
    "    neutral_axis = (((fc_value / fs_value) * d) / (1 + (fc_value / fs_value)))\n",
    "    neutral_axis_depths.append(neutral_axis)\n",
    "\n",
    "# Print the calculated neutral axis depths\n",
    "print(\"Neutral Axis Depths:\", neutral_axis_depths)\n"
   ]
  }
 ],
 "metadata": {
  "kernelspec": {
   "display_name": "UNIBS",
   "language": "python",
   "name": "python3"
  },
  "language_info": {
   "codemirror_mode": {
    "name": "ipython",
    "version": 3
   },
   "file_extension": ".py",
   "mimetype": "text/x-python",
   "name": "python",
   "nbconvert_exporter": "python",
   "pygments_lexer": "ipython3",
   "version": "3.13.3"
  }
 },
 "nbformat": 4,
 "nbformat_minor": 5
}
