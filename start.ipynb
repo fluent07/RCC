{
 "cells": [
  {
   "cell_type": "code",
   "execution_count": 18,
   "metadata": {},
   "outputs": [],
   "source": [
    "import numpy as np\n",
    "import sympy as sp"
   ]
  },
  {
   "cell_type": "code",
   "execution_count": 19,
   "metadata": {},
   "outputs": [
    {
     "name": "stdout",
     "output_type": "stream",
     "text": [
      "1.1005925925925928 3962.1333333333337\n"
     ]
    }
   ],
   "source": [
    "αcc = 0.85\n",
    "fck = 25\n",
    "γc = 1.5\n",
    "γs = 1.15\n",
    "fyk = 450\n",
    "\n",
    "fcd = αcc * (fck/γc)\n",
    "fyd = fyk/γs\n",
    "\n",
    "# As = 2 * (np.pi / 4) * (20)** 2\n",
    "# As = 2326.2762222222223\n",
    "b = 1000\n",
    "d = 360\n",
    "\n",
    "x_d_iter = 0.38\n",
    "ρsb = 0.8 * (x_d_iter) * (fcd/fyd)\n",
    "As_iter = ρsb * b * d\n",
    "print(ρsb*100, As_iter)"
   ]
  },
  {
   "cell_type": "code",
   "execution_count": 20,
   "metadata": {},
   "outputs": [
    {
     "name": "stdout",
     "output_type": "stream",
     "text": [
      "136.8 0.38\n"
     ]
    }
   ],
   "source": [
    "x = (fyd/fcd) * (As_iter/0.8/b)\n",
    "x_d = (fyd/fcd) * (As_iter/0.8/b/d)\n",
    "print(x,x_d) "
   ]
  },
  {
   "cell_type": "code",
   "execution_count": 21,
   "metadata": {},
   "outputs": [
    {
     "data": {
      "text/plain": [
       "473.306112"
      ]
     },
     "execution_count": 21,
     "metadata": {},
     "output_type": "execute_result"
    }
   ],
   "source": [
    "Mrd = 0.8 * x * b * fcd * (d - 0.4 * x)\n",
    "Mrd/1000000 #in kNm"
   ]
  },
  {
   "cell_type": "code",
   "execution_count": 22,
   "metadata": {},
   "outputs": [
    {
     "data": {
      "text/plain": [
       "14.166666666666666"
      ]
     },
     "execution_count": 22,
     "metadata": {},
     "output_type": "execute_result"
    }
   ],
   "source": [
    "fck = 25\n",
    "fyk = 450\n",
    "fcd = 0.85/1.5*fck\n",
    "fyd = fyk/1.15\n",
    "Es = 210000\n",
    "ecu = 0.0035\n",
    "esy = fyd/Es\n",
    "fcd"
   ]
  }
 ],
 "metadata": {
  "kernelspec": {
   "display_name": ".venv",
   "language": "python",
   "name": "python3"
  },
  "language_info": {
   "codemirror_mode": {
    "name": "ipython",
    "version": 3
   },
   "file_extension": ".py",
   "mimetype": "text/x-python",
   "name": "python",
   "nbconvert_exporter": "python",
   "pygments_lexer": "ipython3",
   "version": "3.13.0"
  }
 },
 "nbformat": 4,
 "nbformat_minor": 2
}
