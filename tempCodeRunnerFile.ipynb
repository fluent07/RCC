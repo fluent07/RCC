for keys in loads_Negative_BM.keys():
#     for i in range(len(P)):
#         if i in loads_Negative_BM[keys]:
#             # print(P[i])
#             M_negative[i] = M_negative[i] + eqns[j].subs(P[i], 10)
#             # print(eqns[j])
#         else:
#             # print(P[i])
#             M_negative[i,0] = M_negative[i] + eqns[j].subs(P[i], 5)
#     # M_negative.append(eqns[j])
#     j += 1