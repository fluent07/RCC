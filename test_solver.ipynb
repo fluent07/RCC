{
 "cells": [
  {
   "cell_type": "code",
   "execution_count": 7,
   "metadata": {},
   "outputs": [],
   "source": [
    "import sympy as s"
   ]
  },
  {
   "cell_type": "code",
   "execution_count": 8,
   "metadata": {},
   "outputs": [],
   "source": [
    "x, y, z, P, L, EJ = s.symbols(\"x y z P L EJ\", real=True)"
   ]
  },
  {
   "cell_type": "code",
   "execution_count": 9,
   "metadata": {},
   "outputs": [
    {
     "data": {
      "text/latex": [
       "$\\displaystyle 1.6 x + 0.5 y = 0$"
      ],
      "text/plain": [
       "Eq(1.6*x + 0.5*y, 0)"
      ]
     },
     "execution_count": 9,
     "metadata": {},
     "output_type": "execute_result"
    }
   ],
   "source": [
    "# q1 = 8 / 3 * x + 4 * y + 5 / 6 * z - 23 / 12\n",
    "q1 = s.Eq(1.6 * x + 0.5 * y, 0)  # s.Rational(-1,16))\n",
    "q1\n",
    "\n",
    "# s.solve(q1,q2,q3)"
   ]
  },
  {
   "cell_type": "code",
   "execution_count": 10,
   "metadata": {},
   "outputs": [
    {
     "data": {
      "text/latex": [
       "$\\displaystyle 0.5 x + 1.6 y = 3.125 P$"
      ],
      "text/plain": [
       "Eq(0.5*x + 1.6*y, 3.125*P)"
      ]
     },
     "execution_count": 10,
     "metadata": {},
     "output_type": "execute_result"
    }
   ],
   "source": [
    "# q2 = 5 / 6 * x + 1 * y + 1 / 3 * z - 11 / 16\n",
    "q2 = s.Eq( 0.5* x + 1.6 * y, 3.125*P)#s.Rational(\"11 / 16\"))\n",
    "q2"
   ]
  },
  {
   "cell_type": "code",
   "execution_count": 20,
   "metadata": {},
   "outputs": [
    {
     "data": {
      "text/latex": [
       "$\\displaystyle \\frac{L^{2} P}{24} + \\frac{x}{6} + \\frac{2 y}{3} + \\frac{z}{6} = 0$"
      ],
      "text/plain": [
       "Eq(L**2*P/24 + x/6 + 2*y/3 + z/6, 0)"
      ]
     },
     "execution_count": 20,
     "metadata": {},
     "output_type": "execute_result"
    }
   ],
   "source": [
    "# q3 = 2 / 3 * x + 4 / 3 * y + 1 / 6 * z - 5 / 12\n",
    "q3 = s.Eq(\n",
    "    1 * x / 6 + 2 * y / 3 + 1 * z / 6 + P * L * L / 24, 0\n",
    ")  # s.Rational(\"5 / 12\"))\n",
    "q3"
   ]
  },
  {
   "cell_type": "code",
   "execution_count": 11,
   "metadata": {},
   "outputs": [
    {
     "data": {
      "text/latex": [
       "$\\displaystyle - 0.676406926406926 P$"
      ],
      "text/plain": [
       "-0.676406926406926*P"
      ]
     },
     "execution_count": 11,
     "metadata": {},
     "output_type": "execute_result"
    }
   ],
   "source": [
    "a = s.solve((q1,q2),(x,y))\n",
    "a[x]"
   ]
  },
  {
   "cell_type": "code",
   "execution_count": 12,
   "metadata": {},
   "outputs": [
    {
     "data": {
      "text/latex": [
       "$\\displaystyle 2.16450216450216 P$"
      ],
      "text/plain": [
       "2.16450216450216*P"
      ]
     },
     "execution_count": 12,
     "metadata": {},
     "output_type": "execute_result"
    }
   ],
   "source": [
    "a[y]"
   ]
  }
 ],
 "metadata": {
  "kernelspec": {
   "display_name": "Python 3",
   "language": "python",
   "name": "python3"
  },
  "language_info": {
   "codemirror_mode": {
    "name": "ipython",
    "version": 3
   },
   "file_extension": ".py",
   "mimetype": "text/x-python",
   "name": "python",
   "nbconvert_exporter": "python",
   "pygments_lexer": "ipython3",
   "version": "3.12.3"
  }
 },
 "nbformat": 4,
 "nbformat_minor": 2
}
