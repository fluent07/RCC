{
 "cells": [
  {
   "cell_type": "code",
   "execution_count": 1,
   "metadata": {},
   "outputs": [
    {
     "data": {
      "text/plain": [
       "(105.0, 396900000.0)"
      ]
     },
     "execution_count": 1,
     "metadata": {},
     "output_type": "execute_result"
    }
   ],
   "source": [
    "# Given dimensions\n",
    "h = 300  # Web height in mm\n",
    "b = 300  # Flange width in mm\n",
    "t = 30   # Thickness in mm\n",
    "\n",
    "# Areas of each segment\n",
    "A1 = b * t  # Top flange\n",
    "A2 = h * t  # Web\n",
    "A3 = b * t  # Bottom flange\n",
    "\n",
    "# Centroid calculation (distance from the left edge)\n",
    "x1 = b / 2   # Top flange center\n",
    "x2 = t / 2   # Web center\n",
    "x3 = b / 2   # Bottom flange center\n",
    "\n",
    "# Total area\n",
    "A_total = A1 + A2 + A3\n",
    "\n",
    "# Centroid location\n",
    "centroid_x = (A1 * x1 + A2 * x2 + A3 * x3) / A_total\n",
    "\n",
    "# Moment of inertia calculation\n",
    "# Top flange\n",
    "d1 = h / 2  # Distance from centroid to top flange center\n",
    "Ix1 = (b * t**3) / 12 + A1 * (d1 - t / 2)**2\n",
    "\n",
    "# Web\n",
    "Ix2 = (t * h**3) / 12  # Web, no offset as it's vertical\n",
    "\n",
    "# Bottom flange\n",
    "d3 = h / 2  # Distance from centroid to bottom flange center\n",
    "Ix3 = (b * t**3) / 12 + A3 * (d3 - t / 2)**2\n",
    "\n",
    "# Total moment of inertia\n",
    "Ix_total = Ix1 + Ix2 + Ix3\n",
    "\n",
    "centroid_x, Ix_total\n"
   ]
  },
  {
   "cell_type": "code",
   "execution_count": 2,
   "metadata": {},
   "outputs": [
    {
     "data": {
      "text/plain": [
       "(0.0008503401360544217, 0.003401360544217687, 0.003401360544217687, 0.0)"
      ]
     },
     "execution_count": 2,
     "metadata": {},
     "output_type": "execute_result"
    }
   ],
   "source": [
    "# Shear flow calculation\n",
    "\n",
    "# Assume vertical shear force Vy = 1 (unit force)\n",
    "Vy = 1  # Unit force applied\n",
    "\n",
    "# Shear flow in the web (q_web)\n",
    "# Shear flow is maximum at the neutral axis (midpoint of the web)\n",
    "Q_web = (h / 2) * t * (h / 4)  # First moment of the area above midpoint of web\n",
    "q_web = Vy * Q_web / Ix_total  # Shear flow in web\n",
    "\n",
    "# Shear flow in the top flange (constant)\n",
    "Q_top_flange = A2 * (h / 2)  # First moment of the web area\n",
    "q_top_flange = Vy * Q_top_flange / Ix_total\n",
    "\n",
    "# Shear flow in the bottom flange (constant)\n",
    "Q_bottom_flange = A2 * (h / 2)  # Same as top flange\n",
    "q_bottom_flange = Vy * Q_bottom_flange / Ix_total\n",
    "\n",
    "# Summing moments to find the shear center offset e\n",
    "# Shear center offset e is determined by balancing moments about the centroid\n",
    "e_offset = ((q_top_flange * t * (b / 2)) - (q_bottom_flange * t * (b / 2))) / Vy\n",
    "\n",
    "q_web, q_top_flange, q_bottom_flange, e_offset\n"
   ]
  },
  {
   "cell_type": "code",
   "execution_count": 3,
   "metadata": {},
   "outputs": [
    {
     "data": {
      "text/plain": [
       "(135.0, -135.0, 0.0, 0.0)"
      ]
     },
     "execution_count": 3,
     "metadata": {},
     "output_type": "execute_result"
    }
   ],
   "source": [
    "# Calculate the vertical offset (y-direction offset) for the shear center\n",
    "\n",
    "# Shear flow q already calculated\n",
    "# Use centroid and geometry for further calculations\n",
    "# Centroid is at mid-height (symmetric for vertical offset)\n",
    "# Assumption: Flanges contribute to vertical offset due to asymmetry in geometry\n",
    "\n",
    "# Vertical distances of each part from centroid\n",
    "y_top = h / 2 - t / 2  # Top flange distance from centroid\n",
    "y_bottom = -h / 2 + t / 2  # Bottom flange distance from centroid\n",
    "y_web = 0  # Web centroid distance (no offset since it's vertical)\n",
    "\n",
    "# Moments about the centroid in the vertical direction\n",
    "moment_top = q_top_flange * t * b * y_top\n",
    "moment_bottom = q_bottom_flange * t * b * y_bottom\n",
    "moment_web = 0  # Shear flow in web does not produce vertical offset\n",
    "\n",
    "# Sum of moments\n",
    "moment_total = moment_top + moment_bottom + moment_web\n",
    "\n",
    "# Offset in the y-direction (moment_total / Vy)\n",
    "y_offset = moment_total / Vy\n",
    "\n",
    "y_top, y_bottom, moment_total, y_offset\n"
   ]
  }
 ],
 "metadata": {
  "kernelspec": {
   "display_name": ".venv",
   "language": "python",
   "name": "python3"
  },
  "language_info": {
   "codemirror_mode": {
    "name": "ipython",
    "version": 3
   },
   "file_extension": ".py",
   "mimetype": "text/x-python",
   "name": "python",
   "nbconvert_exporter": "python",
   "pygments_lexer": "ipython3",
   "version": "3.13.0"
  }
 },
 "nbformat": 4,
 "nbformat_minor": 2
}
