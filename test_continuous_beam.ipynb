{
 "cells": [
  {
   "cell_type": "code",
   "execution_count": 306,
   "metadata": {},
   "outputs": [],
   "source": [
    "import numpy as np\n",
    "import matplotlib.pyplot as plt\n",
    "from sympy.interactive.printing import init_printing\n",
    "\n",
    "init_printing(use_unicode=False, wrap_line=False)\n",
    "import sympy as smp"
   ]
  },
  {
   "cell_type": "code",
   "execution_count": 307,
   "metadata": {},
   "outputs": [],
   "source": [
    "P, L, A, E, EI = smp.symbols('P L A E EI', real = True)\n"
   ]
  },
  {
   "cell_type": "code",
   "execution_count": 308,
   "metadata": {},
   "outputs": [
    {
     "name": "stdout",
     "output_type": "stream",
     "text": [
      "4\n"
     ]
    }
   ],
   "source": [
    "no_of_spans = int(input(\"Enter the number of spans:\"))\n",
    "print(no_of_spans)"
   ]
  },
  {
   "cell_type": "code",
   "execution_count": 309,
   "metadata": {},
   "outputs": [
    {
     "name": "stdout",
     "output_type": "stream",
     "text": [
      "[0. 0. 0. 0.]\n",
      "[5. 7. 3. 4.] <class 'numpy.float64'>\n"
     ]
    }
   ],
   "source": [
    "span_lengths = np.zeros(no_of_spans)\n",
    "print(span_lengths)\n",
    "for i in range(len(span_lengths)):\n",
    "    span_lengths[i]=input(\"Enter span length:\")\n",
    "print(span_lengths, type(span_lengths[0]))"
   ]
  },
  {
   "cell_type": "code",
   "execution_count": 310,
   "metadata": {},
   "outputs": [],
   "source": [
    "# print(\"Enter dimensions of the beam:\")\n",
    "# h = float(input(\"Height of the beam in meters:\"))\n",
    "# b = float(input(\"Width of the beam in meters:\"))"
   ]
  },
  {
   "cell_type": "code",
   "execution_count": 311,
   "metadata": {},
   "outputs": [],
   "source": [
    "# gamma_concrete = 25\n",
    "# g_beam = round(np.sum(span_lengths) * b * h * gamma_concrete,2)\n",
    "# print(g_beam)\n",
    "# q = 5\n",
    "# g = 5"
   ]
  },
  {
   "cell_type": "code",
   "execution_count": 312,
   "metadata": {},
   "outputs": [
    {
     "name": "stdout",
     "output_type": "stream",
     "text": [
      "[[0. 0. 0.]\n",
      " [0. 0. 0.]\n",
      " [0. 0. 0.]]\n"
     ]
    }
   ],
   "source": [
    "phi = np.zeros((no_of_spans - 1, no_of_spans-1))\n",
    "print(phi)"
   ]
  },
  {
   "cell_type": "code",
   "execution_count": 313,
   "metadata": {},
   "outputs": [],
   "source": [
    "#Case A"
   ]
  },
  {
   "cell_type": "code",
   "execution_count": 314,
   "metadata": {},
   "outputs": [
    {
     "name": "stdout",
     "output_type": "stream",
     "text": [
      "[[0.]\n",
      " [0.]\n",
      " [0.]\n",
      " [0.]] 4\n"
     ]
    }
   ],
   "source": [
    "phi0 = np.zeros((no_of_spans, 1))\n",
    "phi0\n",
    "print(phi0,len(phi0))\n",
    "# X = np.array([[1, 1], [2, 2.5], [3, 1], [8, 7.5], [7, 9], [9, 9]])\n",
    "# # print(X[:3, :])\n",
    "# print(X,\"\\n\",X[:, 0], X[:, 1])"
   ]
  },
  {
   "cell_type": "code",
   "execution_count": 315,
   "metadata": {},
   "outputs": [
    {
     "name": "stdout",
     "output_type": "stream",
     "text": [
      "f\n",
      "m\n",
      "l\n",
      "[[4.         1.16666667 0.        ]\n",
      " [1.16666667 3.33333333 0.5       ]\n",
      " [0.         0.5        2.33333333]] 3 \n",
      " [[ 5.20833333]\n",
      " [14.29166667]\n",
      " [ 1.125     ]\n",
      " [ 2.66666667]]\n"
     ]
    }
   ],
   "source": [
    "k = 0\n",
    "for i in range(no_of_spans - 1):\n",
    "    if i == 0 or i == no_of_spans - 2:\n",
    "        if i == 0:\n",
    "            print(\"f\")\n",
    "            phi0[i] = span_lengths[i] ** 3 / 24\n",
    "            phi[i, 0] = (span_lengths[i] + span_lengths[i + 1]) / 3\n",
    "            phi[i, 1] = span_lengths[i + 1] / 6\n",
    "        if i == no_of_spans - 2:\n",
    "            print(\"l\")\n",
    "            phi0[i] = span_lengths[i] ** 3 / 24\n",
    "            phi0[i + 1] = span_lengths[i+1] ** 3 / 24\n",
    "            phi[i, no_of_spans - 3] = span_lengths[i] / 6\n",
    "            phi[i, no_of_spans - 2] = (span_lengths[i] + span_lengths[i + 1]) / 3\n",
    "    else:\n",
    "        print(\"m\")\n",
    "        phi0[i] = span_lengths[i] ** 3 / 24\n",
    "        phi[i, k] = (span_lengths[i] / 6)\n",
    "        phi[i, k + 1] = (span_lengths[i] + span_lengths[i + 1]) / 3\n",
    "        phi[i, k + 2] = span_lengths[i + 1] / 6\n",
    "        k += 1\n",
    "\n",
    "print(phi, len(phi), \"\\n\",phi0)"
   ]
  },
  {
   "cell_type": "code",
   "execution_count": 316,
   "metadata": {},
   "outputs": [
    {
     "name": "stdout",
     "output_type": "stream",
     "text": [
      "[[0.]\n",
      " [0.]\n",
      " [0.]]\n",
      "[0. 0. 0. 0. 0. 0.]\n"
     ]
    }
   ],
   "source": [
    "phi_P = np.zeros((no_of_spans - 1, 1))\n",
    "print(phi_P)\n",
    "p = np.empty(0)\n",
    "p = np.append(p, np.zeros((no_of_spans - 1, 1)))\n",
    "p = np.append(p, np.zeros((no_of_spans - 1, 1)))\n",
    "print(p)"
   ]
  },
  {
   "cell_type": "code",
   "execution_count": 317,
   "metadata": {},
   "outputs": [
    {
     "name": "stdout",
     "output_type": "stream",
     "text": [
      "[[0.]\n",
      " [0.]\n",
      " [0.]]\n",
      "[[1.]\n",
      " [1.]\n",
      " [1.]]\n",
      "[[0. 1.]\n",
      " [0. 1.]\n",
      " [0. 1.]]\n"
     ]
    }
   ],
   "source": [
    "out = np.zeros((no_of_spans - 1, 1))\n",
    "print(out)\n",
    "r = np.ones((no_of_spans - 1, 1))\n",
    "print(r)\n",
    "out = np.concatenate((out, r),axis=1)\n",
    "print(out)"
   ]
  },
  {
   "cell_type": "code",
   "execution_count": 318,
   "metadata": {},
   "outputs": [
    {
     "name": "stdout",
     "output_type": "stream",
     "text": [
      "[[-1.45561189 -2.54980234  0.08933482 -0.0577518 ]\n",
      " [ 0.52638364 -3.50782056 -0.30629082  0.19800619]\n",
      " [-0.11279649  0.75167583 -0.41650911 -1.18528704]]\n"
     ]
    }
   ],
   "source": [
    "k = 0\n",
    "out = np.zeros((no_of_spans - 1, 1))\n",
    "for i in range(no_of_spans):\n",
    "    phi_P = np.zeros((no_of_spans - 1, 1))\n",
    "    if i == 0 or i == no_of_spans - 1:\n",
    "        if i == 0:\n",
    "            phi_P[i] = phi0[i]\n",
    "            out = out + np.linalg.inv(phi) @ -phi_P\n",
    "        if i == no_of_spans - 1:\n",
    "            phi_P[i - 1] = phi0[i]\n",
    "            out = np.concatenate((out, np.linalg.inv(phi) @ -phi_P), axis=1)\n",
    "    else:\n",
    "        phi_P[k], phi_P[k + 1] = phi0[i], phi0[i]\n",
    "        out = np.concatenate((out, np.linalg.inv(phi) @ -phi_P), axis=1)\n",
    "        k += 1\n",
    "        # print(phi_P)\n",
    "# print(phi_P)\n",
    "print(out)"
   ]
  }
 ],
 "metadata": {
  "kernelspec": {
   "display_name": "Python 3",
   "language": "python",
   "name": "python3"
  },
  "language_info": {
   "codemirror_mode": {
    "name": "ipython",
    "version": 3
   },
   "file_extension": ".py",
   "mimetype": "text/x-python",
   "name": "python",
   "nbconvert_exporter": "python",
   "pygments_lexer": "ipython3",
   "version": "3.11.0"
  }
 },
 "nbformat": 4,
 "nbformat_minor": 2
}
